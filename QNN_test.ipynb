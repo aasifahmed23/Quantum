{
  "cells": [
    {
      "cell_type": "markdown",
      "metadata": {
        "id": "view-in-github",
        "colab_type": "text"
      },
      "source": [
        "<a href=\"https://colab.research.google.com/github/aasifahmed23/Quantum/blob/main/QNN_test.ipynb\" target=\"_parent\"><img src=\"https://colab.research.google.com/assets/colab-badge.svg\" alt=\"Open In Colab\"/></a>"
      ]
    },
    {
      "cell_type": "markdown",
      "metadata": {
        "id": "ZJjVCo52w8pn"
      },
      "source": [
        "# Quantum Simulation"
      ]
    },
    {
      "cell_type": "code",
      "execution_count": null,
      "metadata": {
        "id": "gEveK0zDw8pr"
      },
      "outputs": [],
      "source": [
        "# Import NumPy and Qiskit’ s main functionalities\n",
        "import numpy as np\n",
        "from qiskit import ClassicalRegister, QuantumRegister, QuantumCircuit, Aer\n",
        "from qiskit import execute\n",
        "from qiskit import IBMQ\n",
        "from qiskit.visualization import plot_histogram\n",
        "from qiskit.tools.monitor import job_monitor\n",
        "%matplotlib inline\n",
        "#from qiskit import( QuantumCircuit, execute, Aer)"
      ]
    },
    {
      "cell_type": "markdown",
      "metadata": {
        "id": "b_097gQtw8pt"
      },
      "source": [
        "## Step 1: Local Quantum Simulation"
      ]
    },
    {
      "cell_type": "code",
      "execution_count": null,
      "metadata": {
        "id": "HsyjayV4w8pu",
        "outputId": "9adaea2b-61de-4f53-ab8b-80c13d41b938"
      },
      "outputs": [
        {
          "data": {
            "text/html": [
              "<pre style=\"word-wrap: normal;white-space: pre;line-height: 15px;\">        ┌───┐     \n",
              "q_0: |0>┤ H ├──■──\n",
              "        └───┘┌─┴─┐\n",
              "q_1: |0>─────┤ X ├\n",
              "             └───┘\n",
              " c_0: 0 ══════════\n",
              "                  \n",
              " c_1: 0 ══════════\n",
              "                  </pre>"
            ],
            "text/plain": [
              "<qiskit.visualization.text.TextDrawing at 0x1fb6298e188>"
            ]
          },
          "execution_count": 2,
          "metadata": {},
          "output_type": "execute_result"
        }
      ],
      "source": [
        "# Use Aer's qasm_simulator (Local)\n",
        "simulator = Aer.get_backend('qasm_simulator') #qasm_simulator\n",
        "# Create a Quantum Circuit acting on the q register\n",
        "circuit = QuantumCircuit(2, 2)\n",
        "# Add a H gate on qubit 0\n",
        "circuit.h(0)\n",
        "# Add a CX (CNOT) gate on control qubit 0 and target qubit 1\n",
        "circuit.cx(0, 1)\n",
        "# Draw the circuit\n",
        "circuit.draw()"
      ]
    },
    {
      "cell_type": "code",
      "execution_count": null,
      "metadata": {
        "id": "J_BOQZCXw8pv",
        "outputId": "dc2f3bb8-e0b3-4d83-92f2-4759fc6a5302"
      },
      "outputs": [
        {
          "name": "stdout",
          "output_type": "stream",
          "text": [
            "\n",
            "Total count for 00 and 11 are: {'00': 506, '11': 494}\n"
          ]
        },
        {
          "data": {
            "image/png": "[encoded data removed]",
            "text/plain": [
              "<Figure size 504x360 with 1 Axes>"
            ]
          },
          "execution_count": 3,
          "metadata": {},
          "output_type": "execute_result"
        }
      ],
      "source": [
        "# Map the quantum measurement to the classical bits\n",
        "circuit.measure([0,1], [0,1])\n",
        "# Execute the circuit on the qasm simulator\n",
        "job = execute(circuit, simulator, shots=1000)\n",
        "# Grab results from the job\n",
        "result = job.result()\n",
        "# Returns counts\n",
        "counts = result.get_counts(circuit)\n",
        "print(\"\\nTotal count for 00 and 11 are:\",counts)\n",
        "# Plot a histogram\n",
        "plot_histogram(counts)"
      ]
    },
    {
      "cell_type": "markdown",
      "metadata": {
        "id": "tcs4uM9Qw8pw"
      },
      "source": [
        "## Step 2: Actual Quantum Computer Simulation"
      ]
    },
    {
      "cell_type": "code",
      "execution_count": null,
      "metadata": {
        "scrolled": true,
        "id": "m9O6udxRw8pw"
      },
      "outputs": [],
      "source": [
        "# Actual IBMQ simulation\n",
        "#IBMQ.save_account('be26e657329bd1c6cd138ffe9ab0638503f5d5e1bb29e3a6ca8a1f33296d7647283f1eb805afe7986b77be773fc62c738982f60db61ffd23b0da6484301bc465')\n",
        "IBMQ.load_account()\n",
        "provider = IBMQ.get_provider('ibm-q')\n",
        "qcomp = provider.get_backend('ibmq_16_melbourne')"
      ]
    },
    {
      "cell_type": "code",
      "execution_count": null,
      "metadata": {
        "id": "_xurJVycw8px",
        "outputId": "2129afeb-e68d-479e-b461-fe3521f438f8"
      },
      "outputs": [
        {
          "name": "stdout",
          "output_type": "stream",
          "text": [
            "Job Status: job has successfully run\n"
          ]
        }
      ],
      "source": [
        "job = execute(circuit, backend=qcomp)\n",
        "job_monitor(job)"
      ]
    },
    {
      "cell_type": "code",
      "execution_count": null,
      "metadata": {
        "id": "9bh1jxqzw8px",
        "outputId": "f19b1b4e-264e-4181-c0b2-4da5dc17afc9"
      },
      "outputs": [
        {
          "data": {
            "image/png": "[encoded data removed]",
            "text/plain": [
              "<Figure size 504x360 with 1 Axes>"
            ]
          },
          "execution_count": 6,
          "metadata": {},
          "output_type": "execute_result"
        }
      ],
      "source": [
        "result = job.result()\n",
        "plot_histogram(result.get_counts(circuit))"
      ]
    },
    {
      "cell_type": "markdown",
      "metadata": {
        "id": "d3yWjTIRw8py"
      },
      "source": [
        "## Step 3: Describe a QNN"
      ]
    },
    {
      "cell_type": "markdown",
      "metadata": {
        "id": "bQMLP79Jw8py"
      },
      "source": [
        " ### Step 0: Get the expected values and unitary parameters:"
      ]
    },
    {
      "cell_type": "code",
      "execution_count": null,
      "metadata": {
        "id": "5WZZ3y41w8py"
      },
      "outputs": [],
      "source": [
        "distributions= ([0.7, 0.3],[0.3, 0.7])\n",
        "rewards = [-1,1]\n",
        "num_shots = 8192\n",
        "backend_used = Aer.get_backend('qasm_simulator')"
      ]
    },
    {
      "cell_type": "code",
      "execution_count": null,
      "metadata": {
        "id": "mwQ2NWMSw8pz"
      },
      "outputs": [],
      "source": [
        "# Get the expected values\n",
        "expected_values = np.dot(distributions,rewards)\n",
        "# Get the number of actions involved\n",
        "num_actions = len(expected_values)\n",
        "# Get the base number that we will need for the network size\n",
        "dim = int(np.log2(num_actions))\n",
        "# Get the parameters for the adaptive gate\n",
        "maxstring = np.binary_repr(np.argmax(expected_values), width = dim)"
      ]
    },
    {
      "cell_type": "code",
      "execution_count": null,
      "metadata": {
        "id": "Qx-E0-y-w8pz",
        "outputId": "05c5f9ee-0eee-41e6-b80d-324ca5717de0"
      },
      "outputs": [
        {
          "data": {
            "text/plain": [
              "array([-0.4,  0.4])"
            ]
          },
          "execution_count": 30,
          "metadata": {},
          "output_type": "execute_result"
        }
      ],
      "source": [
        "expected_values"
      ]
    },
    {
      "cell_type": "code",
      "execution_count": null,
      "metadata": {
        "id": "zkJlW9pUw8pz",
        "outputId": "efd4afaa-2f18-4823-c21c-042a56869ace"
      },
      "outputs": [
        {
          "data": {
            "text/plain": [
              "2"
            ]
          },
          "execution_count": 31,
          "metadata": {},
          "output_type": "execute_result"
        }
      ],
      "source": [
        "num_actions"
      ]
    },
    {
      "cell_type": "code",
      "execution_count": null,
      "metadata": {
        "id": "odaWeimxw8pz",
        "outputId": "14d68ce3-1be9-43a0-d15d-bb955187960e"
      },
      "outputs": [
        {
          "data": {
            "text/plain": [
              "1"
            ]
          },
          "execution_count": 32,
          "metadata": {},
          "output_type": "execute_result"
        }
      ],
      "source": [
        "dim"
      ]
    },
    {
      "cell_type": "code",
      "execution_count": null,
      "metadata": {
        "id": "I3XgXQAVw8p0",
        "outputId": "68682db0-147f-4a7d-b274-0b469d90b8a8"
      },
      "outputs": [
        {
          "data": {
            "text/plain": [
              "'1'"
            ]
          },
          "execution_count": 33,
          "metadata": {},
          "output_type": "execute_result"
        }
      ],
      "source": [
        "maxstring"
      ]
    },
    {
      "cell_type": "code",
      "execution_count": null,
      "metadata": {
        "id": "pcprSeN-w8p0"
      },
      "outputs": [],
      "source": [
        "# Step 1: Setup the Quantum Artificial Neural Network:\n",
        "        # Get the number of quantum registers\n",
        "q = QuantumRegister(3*dim)\n",
        "        # Get the number of classical registers\n",
        "c = ClassicalRegister(dim)\n",
        "        # Setup the quantum neural network\n",
        "        #self.qnnet = QuantumCircuit(q, c)\n",
        "circuit = QuantumCircuit(q, c)"
      ]
    },
    {
      "cell_type": "code",
      "execution_count": null,
      "metadata": {
        "id": "q9LjHXwnw8p0",
        "outputId": "21adde09-30f3-429a-a74d-a06eb3508a19"
      },
      "outputs": [
        {
          "data": {
            "text/html": [
              "<pre style=\"word-wrap: normal;white-space: pre;line-height: 15px;\">          ░ \n",
              "q2_0: |0>─░─\n",
              "          ░ \n",
              "q2_1: |0>─░─\n",
              "          ░ \n",
              "q2_2: |0>─░─\n",
              "          ░ \n",
              " c2_0: 0 ═══\n",
              "            </pre>"
            ],
            "text/plain": [
              "<qiskit.visualization.text.TextDrawing at 0x250e0b17a48>"
            ]
          },
          "execution_count": 35,
          "metadata": {},
          "output_type": "execute_result"
        }
      ],
      "source": [
        "circuit.barrier()\n",
        "circuit.draw()"
      ]
    },
    {
      "cell_type": "code",
      "execution_count": null,
      "metadata": {
        "id": "VJO8WMBDw8p0",
        "outputId": "e583da19-66bc-406b-afbc-db30230ba7d9"
      },
      "outputs": [
        {
          "data": {
            "text/html": [
              "<pre style=\"word-wrap: normal;white-space: pre;line-height: 15px;\">          ░       ┌───┐             ░ \n",
              "q2_0: |0>─░───────┤ H ├─────────■───░─\n",
              "          ░ ┌─────┴───┴──────┐┌─┴─┐ ░ \n",
              "q2_1: |0>─░─┤ U3(3.1416,0,0) ├┤ X ├─░─\n",
              "          ░ └────────────────┘└───┘ ░ \n",
              "q2_2: |0>─░─────────────────────────░─\n",
              "          ░                         ░ \n",
              " c2_0: 0 ═════════════════════════════\n",
              "                                      </pre>"
            ],
            "text/plain": [
              "<qiskit.visualization.text.TextDrawing at 0x250e0b24a48>"
            ]
          },
          "execution_count": 36,
          "metadata": {},
          "output_type": "execute_result"
        }
      ],
      "source": [
        "# Exploration Stage\n",
        "for i in range(0,dim):\n",
        "    circuit.h(q[i])\n",
        "for j in range(0,dim):\n",
        "    circuit.u3(float(maxstring[j])*np.pi,0,0,q[dim+j])\n",
        "for k in range(0,dim):\n",
        "    circuit.cx(q[k],q[dim+k])\n",
        "circuit.barrier()\n",
        "circuit.draw()"
      ]
    },
    {
      "cell_type": "code",
      "execution_count": null,
      "metadata": {
        "id": "DEtNvm7Gw8p1",
        "outputId": "776f6970-0091-40c7-d664-d5f2d2c8ace0"
      },
      "outputs": [
        {
          "data": {
            "text/html": [
              "<pre style=\"word-wrap: normal;white-space: pre;line-height: 15px;\">          ░       ┌───┐             ░            ░ \n",
              "q2_0: |0>─░───────┤ H ├─────────■───░───■────────░─\n",
              "          ░ ┌─────┴───┴──────┐┌─┴─┐ ░   │        ░ \n",
              "q2_1: |0>─░─┤ U3(3.1416,0,0) ├┤ X ├─░───┼────■───░─\n",
              "          ░ └────────────────┘└───┘ ░ ┌─┴─┐┌─┴─┐ ░ \n",
              "q2_2: |0>─░─────────────────────────░─┤ X ├┤ X ├─░─\n",
              "          ░                         ░ └───┘└───┘ ░ \n",
              " c2_0: 0 ══════════════════════════════════════════\n",
              "                                                   </pre>"
            ],
            "text/plain": [
              "<qiskit.visualization.text.TextDrawing at 0x250e09e71c8>"
            ]
          },
          "execution_count": 37,
          "metadata": {},
          "output_type": "execute_result"
        }
      ],
      "source": [
        "# Exploitation Stage\n",
        "for l in range(0,dim):\n",
        "    circuit.cx(q[l],q[2*dim+l])\n",
        "    circuit.cx(q[dim+l],q[2*dim+l])\n",
        "circuit.barrier()\n",
        "circuit.draw()"
      ]
    },
    {
      "cell_type": "code",
      "execution_count": null,
      "metadata": {
        "id": "3b1lgsvCw8p1",
        "outputId": "367b99c6-baad-4a75-9fb7-47e5cad06d72"
      },
      "outputs": [
        {
          "data": {
            "text/html": [
              "<pre style=\"word-wrap: normal;white-space: pre;line-height: 15px;\">          ░       ┌───┐             ░            ░     ░ \n",
              "q2_0: |0>─░───────┤ H ├─────────■───░───■────────░─────░─\n",
              "          ░ ┌─────┴───┴──────┐┌─┴─┐ ░   │        ░     ░ \n",
              "q2_1: |0>─░─┤ U3(3.1416,0,0) ├┤ X ├─░───┼────■───░─────░─\n",
              "          ░ └────────────────┘└───┘ ░ ┌─┴─┐┌─┴─┐ ░ ┌─┐ ░ \n",
              "q2_2: |0>─░─────────────────────────░─┤ X ├┤ X ├─░─┤M├─░─\n",
              "          ░                         ░ └───┘└───┘ ░ └╥┘ ░ \n",
              " c2_0: 0 ═══════════════════════════════════════════╩════\n",
              "                                                         </pre>"
            ],
            "text/plain": [
              "<qiskit.visualization.text.TextDrawing at 0x250e01cc5c8>"
            ]
          },
          "execution_count": 38,
          "metadata": {},
          "output_type": "execute_result"
        }
      ],
      "source": [
        "# Quantum Measurement\n",
        "for m in range(0,dim):\n",
        "    circuit.measure(q[2*dim+m], c[dim-1-m])\n",
        "circuit.barrier()\n",
        "circuit.draw()"
      ]
    },
    {
      "cell_type": "code",
      "execution_count": null,
      "metadata": {
        "id": "v863CmfQw8p1",
        "outputId": "8bfa3c03-57bc-4c7d-834d-056d66076f41"
      },
      "outputs": [
        {
          "name": "stdout",
          "output_type": "stream",
          "text": [
            "\n",
            "Total count for 00 and 11 are: {'1': 8192}\n"
          ]
        },
        {
          "data": {
            "image/png": "[encoded data removed]",
            "text/plain": [
              "<Figure size 504x360 with 1 Axes>"
            ]
          },
          "execution_count": 39,
          "metadata": {},
          "output_type": "execute_result"
        }
      ],
      "source": [
        "# Execute the algorithm on the backend\n",
        "job_exp = execute(circuit, backend = backend_used, shots = num_shots)\n",
        "\n",
        "# Plot the histogram\n",
        "#plot_histogram(job_exp.result().get_counts(circuit))\n",
        "\n",
        "# Grab results from the job\n",
        "result = job_exp.result()\n",
        "# Returns counts\n",
        "counts = result.get_counts(circuit)\n",
        "print(\"\\nTotal count for 00 and 11 are:\",counts)\n",
        "# Plot a histogram\n",
        "plot_histogram(counts)\n",
        ""
      ]
    },
    {
      "cell_type": "code",
      "execution_count": null,
      "metadata": {
        "id": "jM6XTlf_w8p2"
      },
      "outputs": [],
      "source": [
        "class Agent:\n",
        "    def __init__(self, qnnet):\n",
        "        self.qnnet = qnnet\n",
        "    # agent’ s Quantum Neural Network\n",
        "    def get_backend(self,load_accounts = True,backend_code = 'ibmq_qasm_simulator'):\n",
        "        # Load IBM account if needed\n",
        "        if load_accounts == True:\n",
        "            IBMQ.load_accounts()\n",
        "            backend_used = IBMQ.get_backend(backend_code) # Get the backend to use in the computation\n",
        "        if backend_code != 'ibmq_qasm_simulator':\n",
        "            # If one is not using the QASM simulator get the backend status\n",
        "            print(backend_used.status()) # Return the backend used\n",
        "        return backend_used\n",
        "    # probability distributions # reward system # backed to be used # number of shots to run in quantum computer\n",
        "    def choose_action(self,distributions,rewards,backend_used,num_shots):\n",
        "        # Step 0: get the expected values and unitary parameters:\n",
        "        # Get the expected values\n",
        "        expected_values = np.dot(distributions,rewards)\n",
        "        # Get the number of actions involved\n",
        "        num_actions = len(expected_values)\n",
        "        # Get the base number that we will need for the network size\n",
        "        dim = int(np.log2(num_actions))\n",
        "        # Get the parameters for the adaptive gate\n",
        "        maxstring = np.binary_repr(np.argmax(expected_values), width = dim)\n",
        "\n",
        "        # Step 1: Setup the Quantum Artificial Neural Network:\n",
        "        # Get the number of quantum registers\n",
        "        q = QuantumRegister(3*dim)\n",
        "        # Get the number of classical registers\n",
        "        c = ClassicalRegister(dim)\n",
        "        # Setup the quantum neural network\n",
        "        self.qnnet = QuantumCircuit(q, c)\n",
        "\n",
        "\n",
        "        # Step 2: Implement the Reinforcement Learning Algorithm:\n",
        "\n",
        "        # Exploration Stage\n",
        "        for i in range(0,dim):\n",
        "            self.qnnet.h(q[i])\n",
        "        for j in range(0,dim):\n",
        "            self.qnnet.u3(float(maxstring[j])*np.pi,0,0,q[dim+j])\n",
        "        for k in range(0,dim):\n",
        "            self.qnnet.cx(q[k],q[dim+k])\n",
        "\n",
        "        # Exploitation Stage\n",
        "        for l in range(0,dim):\n",
        "            self.qnnet.cx(q[l],q[2*dim+l])\n",
        "            self.qnnet.cx(q[dim+l],q[2*dim+l])\n",
        "\n",
        "        # Quantum Measurement\n",
        "        for m in range(0,dim):\n",
        "            self.qnnet.measure(q[2*dim+m], c[dim-1-m])\n",
        "\n",
        "        # Execute the algorithm on the backend\n",
        "        job_exp = execute(self.qnnet, backend = backend_used, shots = num_shots)\n",
        "\n",
        "        # Plot the histogram\n",
        "        plot_histogram(job_exp.result().get_counts(self.qnnet))\n",
        ""
      ]
    },
    {
      "cell_type": "code",
      "execution_count": null,
      "metadata": {
        "id": "LppsnHskw8p2"
      },
      "outputs": [],
      "source": [
        "# Use Aer's qasm_simulator\n",
        "backend_code = Aer.get_backend('qasm_simulator') #qasm_simulator"
      ]
    },
    {
      "cell_type": "code",
      "execution_count": null,
      "metadata": {
        "id": "bP8CYcZSw8p2",
        "outputId": "cac8003f-5954-4aa9-c80b-c5f921997911"
      },
      "outputs": [
        {
          "data": {
            "text/plain": [
              "<QasmSimulator('qasm_simulator') from AerProvider()>"
            ]
          },
          "execution_count": 6,
          "metadata": {},
          "output_type": "execute_result"
        }
      ],
      "source": [
        "backend_code"
      ]
    },
    {
      "cell_type": "code",
      "execution_count": null,
      "metadata": {
        "id": "Bs3PBhBJw8p3"
      },
      "outputs": [],
      "source": [
        "agent_obj= Agent"
      ]
    },
    {
      "cell_type": "code",
      "execution_count": null,
      "metadata": {
        "id": "DsGuZ0ciw8p3",
        "outputId": "1beb8bb5-da12-4e49-8ac4-74e70c61f5d2"
      },
      "outputs": [
        {
          "name": "stderr",
          "output_type": "stream",
          "text": [
            "d:\\anaconda3\\envs\\ibmq\\lib\\site-packages\\qiskit\\providers\\ibmq\\utils\\deprecation.py:53: DeprecationWarning: IBMQ.load_accounts() is being deprecated. Please use IBM Q Experience v2 credentials and IBMQ.load_account() (note the singular form) instead. You can find the instructions to make the updates here: \n",
            "https://github.com/Qiskit/qiskit-ibmq-provider#updating-to-the-new-ibm-q-experience\n",
            "  DeprecationWarning)\n",
            "d:\\anaconda3\\envs\\ibmq\\lib\\site-packages\\qiskit\\providers\\ibmq\\ibmqfactory.py:482: DeprecationWarning: Calling IBMQ.load_accounts() with v2 credentials. This is provided for backwards compatibility and may lead to unexpected behaviour when mixing v1 and v2 account credentials.\n",
            "  'v1 and v2 account credentials.', DeprecationWarning)\n",
            "d:\\anaconda3\\envs\\ibmq\\lib\\site-packages\\qiskit\\providers\\ibmq\\ibmqfactory.py:594: DeprecationWarning: IBMQ.get_backend() is being deprecated. Please use IBMQ.get_provider() to retrieve a provider and AccountProvider.get_backend(\"name\") to retrieve a backend.\n",
            "  DeprecationWarning)\n"
          ]
        }
      ],
      "source": [
        "agent_obj.get_backend(backend_code)"
      ]
    },
    {
      "cell_type": "code",
      "execution_count": null,
      "metadata": {
        "id": "SniHeni6w8p4"
      },
      "outputs": [],
      "source": []
    }
  ],
  "metadata": {
    "kernelspec": {
      "display_name": "Python 3",
      "language": "python",
      "name": "python3"
    },
    "language_info": {
      "codemirror_mode": {
        "name": "ipython",
        "version": 3
      },
      "file_extension": ".py",
      "mimetype": "text/x-python",
      "name": "python",
      "nbconvert_exporter": "python",
      "pygments_lexer": "ipython3",
      "version": "3.7.4"
    },
    "colab": {
      "provenance": [],
      "include_colab_link": true
    }
  },
  "nbformat": 4,
  "nbformat_minor": 0
}